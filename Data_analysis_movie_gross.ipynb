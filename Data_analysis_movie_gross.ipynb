{
 "cells": [
  {
   "cell_type": "markdown",
   "id": "b82ce512",
   "metadata": {},
   "source": [
    "## Importing Modules"
   ]
  },
  {
   "cell_type": "code",
   "execution_count": 2,
   "id": "e14b744a",
   "metadata": {},
   "outputs": [],
   "source": [
    "import pandas as pd\n",
    "import matplotlib.pyplot as plt"
   ]
  },
  {
   "cell_type": "markdown",
   "id": "cc1e0910",
   "metadata": {},
   "source": [
    "### Read the Movie Gross data from CSV"
   ]
  },
  {
   "cell_type": "code",
   "execution_count": 3,
   "id": "58d203c0",
   "metadata": {},
   "outputs": [],
   "source": [
    "movie_gross_df = pd.read_csv('movie.gross.csv').dropna()"
   ]
  },
  {
   "cell_type": "code",
   "execution_count": 4,
   "id": "22c25911",
   "metadata": {},
   "outputs": [
    {
     "data": {
      "text/html": [
       "<div>\n",
       "<style scoped>\n",
       "    .dataframe tbody tr th:only-of-type {\n",
       "        vertical-align: middle;\n",
       "    }\n",
       "\n",
       "    .dataframe tbody tr th {\n",
       "        vertical-align: top;\n",
       "    }\n",
       "\n",
       "    .dataframe thead th {\n",
       "        text-align: right;\n",
       "    }\n",
       "</style>\n",
       "<table border=\"1\" class=\"dataframe\">\n",
       "  <thead>\n",
       "    <tr style=\"text-align: right;\">\n",
       "      <th></th>\n",
       "      <th>title</th>\n",
       "      <th>studio</th>\n",
       "      <th>domestic_gross</th>\n",
       "      <th>foreign_gross</th>\n",
       "      <th>year</th>\n",
       "    </tr>\n",
       "  </thead>\n",
       "  <tbody>\n",
       "    <tr>\n",
       "      <th>0</th>\n",
       "      <td>Toy Story 3</td>\n",
       "      <td>BV</td>\n",
       "      <td>415000000.0</td>\n",
       "      <td>652000000</td>\n",
       "      <td>2010</td>\n",
       "    </tr>\n",
       "    <tr>\n",
       "      <th>1</th>\n",
       "      <td>Alice in Wonderland (2010)</td>\n",
       "      <td>BV</td>\n",
       "      <td>334200000.0</td>\n",
       "      <td>691300000</td>\n",
       "      <td>2010</td>\n",
       "    </tr>\n",
       "    <tr>\n",
       "      <th>2</th>\n",
       "      <td>Harry Potter and the Deathly Hallows Part 1</td>\n",
       "      <td>WB</td>\n",
       "      <td>296000000.0</td>\n",
       "      <td>664300000</td>\n",
       "      <td>2010</td>\n",
       "    </tr>\n",
       "    <tr>\n",
       "      <th>3</th>\n",
       "      <td>Inception</td>\n",
       "      <td>WB</td>\n",
       "      <td>292600000.0</td>\n",
       "      <td>535700000</td>\n",
       "      <td>2010</td>\n",
       "    </tr>\n",
       "    <tr>\n",
       "      <th>4</th>\n",
       "      <td>Shrek Forever After</td>\n",
       "      <td>P/DW</td>\n",
       "      <td>238700000.0</td>\n",
       "      <td>513900000</td>\n",
       "      <td>2010</td>\n",
       "    </tr>\n",
       "  </tbody>\n",
       "</table>\n",
       "</div>"
      ],
      "text/plain": [
       "                                         title studio  domestic_gross  \\\n",
       "0                                  Toy Story 3     BV     415000000.0   \n",
       "1                   Alice in Wonderland (2010)     BV     334200000.0   \n",
       "2  Harry Potter and the Deathly Hallows Part 1     WB     296000000.0   \n",
       "3                                    Inception     WB     292600000.0   \n",
       "4                          Shrek Forever After   P/DW     238700000.0   \n",
       "\n",
       "  foreign_gross  year  \n",
       "0     652000000  2010  \n",
       "1     691300000  2010  \n",
       "2     664300000  2010  \n",
       "3     535700000  2010  \n",
       "4     513900000  2010  "
      ]
     },
     "execution_count": 4,
     "metadata": {},
     "output_type": "execute_result"
    }
   ],
   "source": [
    "movie_gross_df.head()"
   ]
  },
  {
   "cell_type": "code",
   "execution_count": 5,
   "id": "8566fffe",
   "metadata": {},
   "outputs": [],
   "source": [
    "movie_gross_grouped_by_year = movie_gross_df.groupby([\"year\"])"
   ]
  },
  {
   "cell_type": "code",
   "execution_count": 6,
   "id": "1340d87e",
   "metadata": {},
   "outputs": [],
   "source": [
    "# movie_gross_grouped_by_year.plot.bar(x = \"year\",y=\"domestic_gross\")"
   ]
  },
  {
   "cell_type": "code",
   "execution_count": 7,
   "id": "6a2402e7",
   "metadata": {},
   "outputs": [],
   "source": [
    "movie_gross_domestic_year = movie_gross_df[[\"domestic_gross\",\"year\"]]"
   ]
  },
  {
   "cell_type": "code",
   "execution_count": 8,
   "id": "6fcdca0c",
   "metadata": {},
   "outputs": [
    {
     "data": {
      "text/html": [
       "<div>\n",
       "<style scoped>\n",
       "    .dataframe tbody tr th:only-of-type {\n",
       "        vertical-align: middle;\n",
       "    }\n",
       "\n",
       "    .dataframe tbody tr th {\n",
       "        vertical-align: top;\n",
       "    }\n",
       "\n",
       "    .dataframe thead th {\n",
       "        text-align: right;\n",
       "    }\n",
       "</style>\n",
       "<table border=\"1\" class=\"dataframe\">\n",
       "  <thead>\n",
       "    <tr style=\"text-align: right;\">\n",
       "      <th></th>\n",
       "      <th>domestic_gross</th>\n",
       "      <th>year</th>\n",
       "    </tr>\n",
       "  </thead>\n",
       "  <tbody>\n",
       "    <tr>\n",
       "      <th>0</th>\n",
       "      <td>415000000.0</td>\n",
       "      <td>2010</td>\n",
       "    </tr>\n",
       "    <tr>\n",
       "      <th>1</th>\n",
       "      <td>334200000.0</td>\n",
       "      <td>2010</td>\n",
       "    </tr>\n",
       "    <tr>\n",
       "      <th>2</th>\n",
       "      <td>296000000.0</td>\n",
       "      <td>2010</td>\n",
       "    </tr>\n",
       "    <tr>\n",
       "      <th>3</th>\n",
       "      <td>292600000.0</td>\n",
       "      <td>2010</td>\n",
       "    </tr>\n",
       "    <tr>\n",
       "      <th>4</th>\n",
       "      <td>238700000.0</td>\n",
       "      <td>2010</td>\n",
       "    </tr>\n",
       "  </tbody>\n",
       "</table>\n",
       "</div>"
      ],
      "text/plain": [
       "   domestic_gross  year\n",
       "0     415000000.0  2010\n",
       "1     334200000.0  2010\n",
       "2     296000000.0  2010\n",
       "3     292600000.0  2010\n",
       "4     238700000.0  2010"
      ]
     },
     "execution_count": 8,
     "metadata": {},
     "output_type": "execute_result"
    }
   ],
   "source": [
    "movie_gross_domestic_year.head()"
   ]
  },
  {
   "cell_type": "code",
   "execution_count": 9,
   "id": "8382dfa2",
   "metadata": {},
   "outputs": [],
   "source": [
    "movie_gross_year = movie_gross_domestic_year.groupby(\"year\").sum()"
   ]
  },
  {
   "cell_type": "code",
   "execution_count": 10,
   "id": "19b3c656",
   "metadata": {},
   "outputs": [
    {
     "data": {
      "text/html": [
       "<div>\n",
       "<style scoped>\n",
       "    .dataframe tbody tr th:only-of-type {\n",
       "        vertical-align: middle;\n",
       "    }\n",
       "\n",
       "    .dataframe tbody tr th {\n",
       "        vertical-align: top;\n",
       "    }\n",
       "\n",
       "    .dataframe thead th {\n",
       "        text-align: right;\n",
       "    }\n",
       "</style>\n",
       "<table border=\"1\" class=\"dataframe\">\n",
       "  <thead>\n",
       "    <tr style=\"text-align: right;\">\n",
       "      <th></th>\n",
       "      <th>domestic_gross</th>\n",
       "    </tr>\n",
       "    <tr>\n",
       "      <th>year</th>\n",
       "      <th></th>\n",
       "    </tr>\n",
       "  </thead>\n",
       "  <tbody>\n",
       "    <tr>\n",
       "      <th>2010</th>\n",
       "      <td>1.015274e+10</td>\n",
       "    </tr>\n",
       "    <tr>\n",
       "      <th>2011</th>\n",
       "      <td>9.915690e+09</td>\n",
       "    </tr>\n",
       "    <tr>\n",
       "      <th>2012</th>\n",
       "      <td>1.069786e+10</td>\n",
       "    </tr>\n",
       "    <tr>\n",
       "      <th>2013</th>\n",
       "      <td>1.055885e+10</td>\n",
       "    </tr>\n",
       "    <tr>\n",
       "      <th>2014</th>\n",
       "      <td>1.014798e+10</td>\n",
       "    </tr>\n",
       "    <tr>\n",
       "      <th>2015</th>\n",
       "      <td>1.074487e+10</td>\n",
       "    </tr>\n",
       "    <tr>\n",
       "      <th>2016</th>\n",
       "      <td>1.086969e+10</td>\n",
       "    </tr>\n",
       "    <tr>\n",
       "      <th>2017</th>\n",
       "      <td>1.051677e+10</td>\n",
       "    </tr>\n",
       "    <tr>\n",
       "      <th>2018</th>\n",
       "      <td>1.076436e+10</td>\n",
       "    </tr>\n",
       "  </tbody>\n",
       "</table>\n",
       "</div>"
      ],
      "text/plain": [
       "      domestic_gross\n",
       "year                \n",
       "2010    1.015274e+10\n",
       "2011    9.915690e+09\n",
       "2012    1.069786e+10\n",
       "2013    1.055885e+10\n",
       "2014    1.014798e+10\n",
       "2015    1.074487e+10\n",
       "2016    1.086969e+10\n",
       "2017    1.051677e+10\n",
       "2018    1.076436e+10"
      ]
     },
     "execution_count": 10,
     "metadata": {},
     "output_type": "execute_result"
    }
   ],
   "source": [
    "movie_gross_year"
   ]
  },
  {
   "cell_type": "code",
   "execution_count": 11,
   "id": "efa856c8",
   "metadata": {},
   "outputs": [
    {
     "data": {
      "text/plain": [
       "Text(0, 0.5, 'Domestic Gross in $')"
      ]
     },
     "execution_count": 11,
     "metadata": {},
     "output_type": "execute_result"
    },
    {
     "data": {
      "image/png": "[encoded data removed]",
      "text/plain": [
       "<Figure size 432x288 with 1 Axes>"
      ]
     },
     "metadata": {
      "needs_background": "light"
     },
     "output_type": "display_data"
    }
   ],
   "source": [
    "axes = movie_gross_year.plot.bar(color=\"green\")\n",
    "axes.set_ylabel(\"Domestic Gross in $\")"
   ]
  },
  {
   "cell_type": "code",
   "execution_count": 12,
   "id": "3baa5a92",
   "metadata": {},
   "outputs": [],
   "source": [
    "foreign_df = movie_gross_df[['foreign_gross','year']].groupby(\"year\").sum()"
   ]
  },
  {
   "cell_type": "code",
   "execution_count": 13,
   "id": "87cca927",
   "metadata": {},
   "outputs": [
    {
     "data": {
      "text/html": [
       "<div>\n",
       "<style scoped>\n",
       "    .dataframe tbody tr th:only-of-type {\n",
       "        vertical-align: middle;\n",
       "    }\n",
       "\n",
       "    .dataframe tbody tr th {\n",
       "        vertical-align: top;\n",
       "    }\n",
       "\n",
       "    .dataframe thead th {\n",
       "        text-align: right;\n",
       "    }\n",
       "</style>\n",
       "<table border=\"1\" class=\"dataframe\">\n",
       "  <thead>\n",
       "    <tr style=\"text-align: right;\">\n",
       "      <th></th>\n",
       "      <th>foreign_gross</th>\n",
       "    </tr>\n",
       "    <tr>\n",
       "      <th>year</th>\n",
       "      <th></th>\n",
       "    </tr>\n",
       "  </thead>\n",
       "  <tbody>\n",
       "    <tr>\n",
       "      <th>2010</th>\n",
       "      <td>6520000006913000006643000005357000005139000003...</td>\n",
       "    </tr>\n",
       "    <tr>\n",
       "      <th>2011</th>\n",
       "      <td>9605000007714000008046000004309000004853000005...</td>\n",
       "    </tr>\n",
       "    <tr>\n",
       "      <th>2012</th>\n",
       "      <td>8955000008042000006368000007181000007159000005...</td>\n",
       "    </tr>\n",
       "    <tr>\n",
       "      <th>2013</th>\n",
       "      <td>8757000008058000006027000007000000004403000005...</td>\n",
       "    </tr>\n",
       "    <tr>\n",
       "      <th>2014</th>\n",
       "      <td>8586000007009000004402000005171000004182000005...</td>\n",
       "    </tr>\n",
       "    <tr>\n",
       "      <th>2015</th>\n",
       "      <td>1,131.61,019.41,163.09464000008234000006806000...</td>\n",
       "    </tr>\n",
       "    <tr>\n",
       "      <th>2016</th>\n",
       "      <td>7452000005239000005423000006825000006025000005...</td>\n",
       "    </tr>\n",
       "    <tr>\n",
       "      <th>2017</th>\n",
       "      <td>7124000007595000001,010.0770200000557600000546...</td>\n",
       "    </tr>\n",
       "    <tr>\n",
       "      <th>2018</th>\n",
       "      <td>1,369.5646900000891800000634200000812700000687...</td>\n",
       "    </tr>\n",
       "  </tbody>\n",
       "</table>\n",
       "</div>"
      ],
      "text/plain": [
       "                                          foreign_gross\n",
       "year                                                   \n",
       "2010  6520000006913000006643000005357000005139000003...\n",
       "2011  9605000007714000008046000004309000004853000005...\n",
       "2012  8955000008042000006368000007181000007159000005...\n",
       "2013  8757000008058000006027000007000000004403000005...\n",
       "2014  8586000007009000004402000005171000004182000005...\n",
       "2015  1,131.61,019.41,163.09464000008234000006806000...\n",
       "2016  7452000005239000005423000006825000006025000005...\n",
       "2017  7124000007595000001,010.0770200000557600000546...\n",
       "2018  1,369.5646900000891800000634200000812700000687..."
      ]
     },
     "execution_count": 13,
     "metadata": {},
     "output_type": "execute_result"
    }
   ],
   "source": [
    "foreign_df"
   ]
  },
  {
   "cell_type": "code",
   "execution_count": 14,
   "id": "6e1dfb15",
   "metadata": {},
   "outputs": [
    {
     "data": {
      "text/html": [
       "<div>\n",
       "<style scoped>\n",
       "    .dataframe tbody tr th:only-of-type {\n",
       "        vertical-align: middle;\n",
       "    }\n",
       "\n",
       "    .dataframe tbody tr th {\n",
       "        vertical-align: top;\n",
       "    }\n",
       "\n",
       "    .dataframe thead th {\n",
       "        text-align: right;\n",
       "    }\n",
       "</style>\n",
       "<table border=\"1\" class=\"dataframe\">\n",
       "  <thead>\n",
       "    <tr style=\"text-align: right;\">\n",
       "      <th></th>\n",
       "      <th>domestic_gross</th>\n",
       "    </tr>\n",
       "    <tr>\n",
       "      <th>year</th>\n",
       "      <th></th>\n",
       "    </tr>\n",
       "  </thead>\n",
       "  <tbody>\n",
       "    <tr>\n",
       "      <th>2010</th>\n",
       "      <td>1.015274e+10</td>\n",
       "    </tr>\n",
       "    <tr>\n",
       "      <th>2011</th>\n",
       "      <td>9.915690e+09</td>\n",
       "    </tr>\n",
       "    <tr>\n",
       "      <th>2012</th>\n",
       "      <td>1.069786e+10</td>\n",
       "    </tr>\n",
       "    <tr>\n",
       "      <th>2013</th>\n",
       "      <td>1.055885e+10</td>\n",
       "    </tr>\n",
       "    <tr>\n",
       "      <th>2014</th>\n",
       "      <td>1.014798e+10</td>\n",
       "    </tr>\n",
       "    <tr>\n",
       "      <th>2015</th>\n",
       "      <td>1.074487e+10</td>\n",
       "    </tr>\n",
       "    <tr>\n",
       "      <th>2016</th>\n",
       "      <td>1.086969e+10</td>\n",
       "    </tr>\n",
       "    <tr>\n",
       "      <th>2017</th>\n",
       "      <td>1.051677e+10</td>\n",
       "    </tr>\n",
       "    <tr>\n",
       "      <th>2018</th>\n",
       "      <td>1.076436e+10</td>\n",
       "    </tr>\n",
       "  </tbody>\n",
       "</table>\n",
       "</div>"
      ],
      "text/plain": [
       "      domestic_gross\n",
       "year                \n",
       "2010    1.015274e+10\n",
       "2011    9.915690e+09\n",
       "2012    1.069786e+10\n",
       "2013    1.055885e+10\n",
       "2014    1.014798e+10\n",
       "2015    1.074487e+10\n",
       "2016    1.086969e+10\n",
       "2017    1.051677e+10\n",
       "2018    1.076436e+10"
      ]
     },
     "execution_count": 14,
     "metadata": {},
     "output_type": "execute_result"
    }
   ],
   "source": [
    "movie_gross_df.groupby([\"year\"])[[\"domestic_gross\",\"foreign_gross\"]].sum()"
   ]
  },
  {
   "cell_type": "markdown",
   "id": "6c0463a0",
   "metadata": {
    "heading_collapsed": true
   },
   "source": [
    "### Checking Datatypes"
   ]
  },
  {
   "cell_type": "code",
   "execution_count": 15,
   "id": "e0de657d",
   "metadata": {
    "hidden": true
   },
   "outputs": [
    {
     "data": {
      "text/plain": [
       "0    652000000\n",
       "1    691300000\n",
       "2    664300000\n",
       "3    535700000\n",
       "4    513900000\n",
       "Name: foreign_gross, dtype: object"
      ]
     },
     "execution_count": 15,
     "metadata": {},
     "output_type": "execute_result"
    }
   ],
   "source": [
    "movie_gross_df[\"foreign_gross\"].head()"
   ]
  },
  {
   "cell_type": "markdown",
   "id": "85ad9430",
   "metadata": {},
   "source": [
    "### Convert dataframe object to float"
   ]
  },
  {
   "cell_type": "code",
   "execution_count": 16,
   "id": "1ec63fe3",
   "metadata": {},
   "outputs": [],
   "source": [
    "movie_gross_df[\"foreign_gross\"] = pd.to_numeric(movie_gross_df[\"foreign_gross\"],errors='coerce')"
   ]
  },
  {
   "cell_type": "code",
   "execution_count": 17,
   "id": "0d326c6d",
   "metadata": {},
   "outputs": [
    {
     "data": {
      "text/plain": [
       "0       652000000.0\n",
       "1       691300000.0\n",
       "2       664300000.0\n",
       "3       535700000.0\n",
       "4       513900000.0\n",
       "           ...     \n",
       "3275      1500000.0\n",
       "3286       229000.0\n",
       "3309       256000.0\n",
       "3342         5200.0\n",
       "3353        30000.0\n",
       "Name: foreign_gross, Length: 2007, dtype: float64"
      ]
     },
     "execution_count": 17,
     "metadata": {},
     "output_type": "execute_result"
    }
   ],
   "source": [
    "movie_gross_df[\"foreign_gross\"]"
   ]
  },
  {
   "cell_type": "markdown",
   "id": "8f1f8f5e",
   "metadata": {},
   "source": [
    "### Bivarate Bar Graph"
   ]
  },
  {
   "cell_type": "code",
   "execution_count": 18,
   "id": "53d492af",
   "metadata": {},
   "outputs": [
    {
     "data": {
      "image/png": "[encoded data removed]",
      "text/plain": [
       "<Figure size 432x288 with 1 Axes>"
      ]
     },
     "metadata": {
      "needs_background": "light"
     },
     "output_type": "display_data"
    }
   ],
   "source": [
    "axes = movie_gross_df.groupby([\"year\"])[[\"domestic_gross\",\"foreign_gross\"]].sum().plot.bar(color={\"domestic_gross\":\"green\",\"foreign_gross\":\"red\"})"
   ]
  },
  {
   "cell_type": "code",
   "execution_count": 19,
   "id": "975a258b",
   "metadata": {},
   "outputs": [
    {
     "data": {
      "image/png": "[encoded data removed]",
      "text/plain": [
       "<Figure size 432x288 with 2 Axes>"
      ]
     },
     "metadata": {
      "needs_background": "light"
     },
     "output_type": "display_data"
    }
   ],
   "source": [
    "axes = movie_gross_df.groupby([\"year\"])[[\"domestic_gross\",\"foreign_gross\"]].sum().plot.bar(color={\"domestic_gross\":\"green\",\"foreign_gross\":\"red\"},subplots = True)"
   ]
  },
  {
   "cell_type": "code",
   "execution_count": 20,
   "id": "bfc84847",
   "metadata": {},
   "outputs": [
    {
     "data": {
      "image/png": "[encoded data removed]",
      "text/plain": [
       "<Figure size 432x288 with 1 Axes>"
      ]
     },
     "metadata": {
      "needs_background": "light"
     },
     "output_type": "display_data"
    }
   ],
   "source": [
    "axes = movie_gross_df.groupby([\"year\"])[[\"domestic_gross\",\"foreign_gross\"]].sum().plot.line(color={\"domestic_gross\":\"green\",\"foreign_gross\":\"red\"})"
   ]
  },
  {
   "cell_type": "code",
   "execution_count": 21,
   "id": "58e5aa80",
   "metadata": {},
   "outputs": [],
   "source": [
    "studios_df = movie_gross_df.groupby([\"studio\"])[[\"domestic_gross\",\"foreign_gross\"]].sum()"
   ]
  },
  {
   "cell_type": "code",
   "execution_count": 22,
   "id": "9a9dce6c",
   "metadata": {},
   "outputs": [],
   "source": [
    "movies_2015_df = movie_gross_df[movie_gross_df[\"year\"] == 2015]"
   ]
  },
  {
   "cell_type": "code",
   "execution_count": 23,
   "id": "49458b4f",
   "metadata": {},
   "outputs": [],
   "source": [
    "movies_2015_no_foreign_sales = movies_2015_df[movies_2015_df[\"foreign_gross\"] < 1000000]"
   ]
  },
  {
   "cell_type": "code",
   "execution_count": 24,
   "id": "db4d3811",
   "metadata": {
    "scrolled": true
   },
   "outputs": [
    {
     "data": {
      "text/html": [
       "<div>\n",
       "<style scoped>\n",
       "    .dataframe tbody tr th:only-of-type {\n",
       "        vertical-align: middle;\n",
       "    }\n",
       "\n",
       "    .dataframe tbody tr th {\n",
       "        vertical-align: top;\n",
       "    }\n",
       "\n",
       "    .dataframe thead th {\n",
       "        text-align: right;\n",
       "    }\n",
       "</style>\n",
       "<table border=\"1\" class=\"dataframe\">\n",
       "  <thead>\n",
       "    <tr style=\"text-align: right;\">\n",
       "      <th></th>\n",
       "      <th>domestic_gross</th>\n",
       "      <th>foreign_gross</th>\n",
       "    </tr>\n",
       "    <tr>\n",
       "      <th>studio</th>\n",
       "      <th></th>\n",
       "      <th></th>\n",
       "    </tr>\n",
       "  </thead>\n",
       "  <tbody>\n",
       "    <tr>\n",
       "      <th>A24</th>\n",
       "      <td>4.770000e+07</td>\n",
       "      <td>4.180000e+07</td>\n",
       "    </tr>\n",
       "    <tr>\n",
       "      <th>BG</th>\n",
       "      <td>2.950000e+07</td>\n",
       "      <td>8.000000e+06</td>\n",
       "    </tr>\n",
       "    <tr>\n",
       "      <th>BST</th>\n",
       "      <td>1.590000e+07</td>\n",
       "      <td>8.678000e+06</td>\n",
       "    </tr>\n",
       "    <tr>\n",
       "      <th>BV</th>\n",
       "      <td>2.495700e+09</td>\n",
       "      <td>2.550111e+09</td>\n",
       "    </tr>\n",
       "    <tr>\n",
       "      <th>CJ</th>\n",
       "      <td>6.970000e+05</td>\n",
       "      <td>4.980000e+07</td>\n",
       "    </tr>\n",
       "    <tr>\n",
       "      <th>CL</th>\n",
       "      <td>3.118000e+06</td>\n",
       "      <td>4.846000e+08</td>\n",
       "    </tr>\n",
       "    <tr>\n",
       "      <th>EC</th>\n",
       "      <td>1.600000e+07</td>\n",
       "      <td>5.660000e+07</td>\n",
       "    </tr>\n",
       "    <tr>\n",
       "      <th>EOne</th>\n",
       "      <td>5.470000e+05</td>\n",
       "      <td>2.500000e+06</td>\n",
       "    </tr>\n",
       "    <tr>\n",
       "      <th>FCW</th>\n",
       "      <td>9.265000e+05</td>\n",
       "      <td>1.528800e+07</td>\n",
       "    </tr>\n",
       "    <tr>\n",
       "      <th>FIP</th>\n",
       "      <td>5.970000e+06</td>\n",
       "      <td>8.690000e+07</td>\n",
       "    </tr>\n",
       "    <tr>\n",
       "      <th>FR</th>\n",
       "      <td>4.100000e+05</td>\n",
       "      <td>1.200000e+06</td>\n",
       "    </tr>\n",
       "    <tr>\n",
       "      <th>FUN</th>\n",
       "      <td>8.000000e+06</td>\n",
       "      <td>5.380000e+07</td>\n",
       "    </tr>\n",
       "    <tr>\n",
       "      <th>Focus</th>\n",
       "      <td>1.080000e+08</td>\n",
       "      <td>1.685000e+08</td>\n",
       "    </tr>\n",
       "    <tr>\n",
       "      <th>Fox</th>\n",
       "      <td>1.483500e+09</td>\n",
       "      <td>2.479500e+09</td>\n",
       "    </tr>\n",
       "    <tr>\n",
       "      <th>FoxS</th>\n",
       "      <td>9.310000e+07</td>\n",
       "      <td>9.709710e+07</td>\n",
       "    </tr>\n",
       "    <tr>\n",
       "      <th>IFC</th>\n",
       "      <td>1.499700e+06</td>\n",
       "      <td>4.602000e+06</td>\n",
       "    </tr>\n",
       "    <tr>\n",
       "      <th>ITL</th>\n",
       "      <td>4.110000e+04</td>\n",
       "      <td>1.180000e+04</td>\n",
       "    </tr>\n",
       "    <tr>\n",
       "      <th>LG/S</th>\n",
       "      <td>1.588000e+08</td>\n",
       "      <td>2.984000e+08</td>\n",
       "    </tr>\n",
       "    <tr>\n",
       "      <th>LGF</th>\n",
       "      <td>4.730000e+08</td>\n",
       "      <td>5.974000e+08</td>\n",
       "    </tr>\n",
       "    <tr>\n",
       "      <th>LGP</th>\n",
       "      <td>7.410000e+04</td>\n",
       "      <td>1.215000e+08</td>\n",
       "    </tr>\n",
       "    <tr>\n",
       "      <th>MBox</th>\n",
       "      <td>9.980000e+05</td>\n",
       "      <td>5.240000e+07</td>\n",
       "    </tr>\n",
       "    <tr>\n",
       "      <th>Magn.</th>\n",
       "      <td>1.760000e+05</td>\n",
       "      <td>4.900000e+06</td>\n",
       "    </tr>\n",
       "    <tr>\n",
       "      <th>ORF</th>\n",
       "      <td>7.930000e+07</td>\n",
       "      <td>7.128000e+07</td>\n",
       "    </tr>\n",
       "    <tr>\n",
       "      <th>Orch.</th>\n",
       "      <td>7.040000e+05</td>\n",
       "      <td>4.220000e+05</td>\n",
       "    </tr>\n",
       "    <tr>\n",
       "      <th>PBS</th>\n",
       "      <td>5.170000e+05</td>\n",
       "      <td>6.720000e+04</td>\n",
       "    </tr>\n",
       "    <tr>\n",
       "      <th>PFR</th>\n",
       "      <td>1.300000e+07</td>\n",
       "      <td>1.400000e+06</td>\n",
       "    </tr>\n",
       "    <tr>\n",
       "      <th>Par.</th>\n",
       "      <td>7.315067e+08</td>\n",
       "      <td>1.267685e+09</td>\n",
       "    </tr>\n",
       "    <tr>\n",
       "      <th>RAtt.</th>\n",
       "      <td>3.160000e+07</td>\n",
       "      <td>2.805500e+07</td>\n",
       "    </tr>\n",
       "    <tr>\n",
       "      <th>RTWC</th>\n",
       "      <td>1.960000e+05</td>\n",
       "      <td>3.600000e+06</td>\n",
       "    </tr>\n",
       "    <tr>\n",
       "      <th>Rela.</th>\n",
       "      <td>5.230000e+07</td>\n",
       "      <td>3.500000e+07</td>\n",
       "    </tr>\n",
       "    <tr>\n",
       "      <th>SGem</th>\n",
       "      <td>1.215000e+08</td>\n",
       "      <td>1.850000e+07</td>\n",
       "    </tr>\n",
       "    <tr>\n",
       "      <th>SPC</th>\n",
       "      <td>4.383900e+07</td>\n",
       "      <td>1.529070e+08</td>\n",
       "    </tr>\n",
       "    <tr>\n",
       "      <th>STX</th>\n",
       "      <td>6.400000e+07</td>\n",
       "      <td>2.990000e+07</td>\n",
       "    </tr>\n",
       "    <tr>\n",
       "      <th>Sony</th>\n",
       "      <td>7.300110e+08</td>\n",
       "      <td>1.483200e+09</td>\n",
       "    </tr>\n",
       "    <tr>\n",
       "      <th>TFA</th>\n",
       "      <td>2.040000e+04</td>\n",
       "      <td>2.560000e+07</td>\n",
       "    </tr>\n",
       "    <tr>\n",
       "      <th>TriS</th>\n",
       "      <td>3.690000e+07</td>\n",
       "      <td>6.550000e+07</td>\n",
       "    </tr>\n",
       "    <tr>\n",
       "      <th>U/P</th>\n",
       "      <td>3.500000e+06</td>\n",
       "      <td>2.800000e+06</td>\n",
       "    </tr>\n",
       "    <tr>\n",
       "      <th>UHE</th>\n",
       "      <td>1.700000e+06</td>\n",
       "      <td>3.200000e+06</td>\n",
       "    </tr>\n",
       "    <tr>\n",
       "      <th>Uni.</th>\n",
       "      <td>2.429738e+09</td>\n",
       "      <td>2.029049e+09</td>\n",
       "    </tr>\n",
       "    <tr>\n",
       "      <th>W/Dim.</th>\n",
       "      <td>7.630000e+07</td>\n",
       "      <td>1.918000e+08</td>\n",
       "    </tr>\n",
       "    <tr>\n",
       "      <th>WB</th>\n",
       "      <td>8.056000e+08</td>\n",
       "      <td>1.149600e+09</td>\n",
       "    </tr>\n",
       "    <tr>\n",
       "      <th>WB (NL)</th>\n",
       "      <td>3.813000e+08</td>\n",
       "      <td>4.659000e+08</td>\n",
       "    </tr>\n",
       "    <tr>\n",
       "      <th>WGUSA</th>\n",
       "      <td>2.859000e+06</td>\n",
       "      <td>6.645000e+08</td>\n",
       "    </tr>\n",
       "    <tr>\n",
       "      <th>Wein.</th>\n",
       "      <td>1.948204e+08</td>\n",
       "      <td>2.808000e+08</td>\n",
       "    </tr>\n",
       "  </tbody>\n",
       "</table>\n",
       "</div>"
      ],
      "text/plain": [
       "         domestic_gross  foreign_gross\n",
       "studio                                \n",
       "A24        4.770000e+07   4.180000e+07\n",
       "BG         2.950000e+07   8.000000e+06\n",
       "BST        1.590000e+07   8.678000e+06\n",
       "BV         2.495700e+09   2.550111e+09\n",
       "CJ         6.970000e+05   4.980000e+07\n",
       "CL         3.118000e+06   4.846000e+08\n",
       "EC         1.600000e+07   5.660000e+07\n",
       "EOne       5.470000e+05   2.500000e+06\n",
       "FCW        9.265000e+05   1.528800e+07\n",
       "FIP        5.970000e+06   8.690000e+07\n",
       "FR         4.100000e+05   1.200000e+06\n",
       "FUN        8.000000e+06   5.380000e+07\n",
       "Focus      1.080000e+08   1.685000e+08\n",
       "Fox        1.483500e+09   2.479500e+09\n",
       "FoxS       9.310000e+07   9.709710e+07\n",
       "IFC        1.499700e+06   4.602000e+06\n",
       "ITL        4.110000e+04   1.180000e+04\n",
       "LG/S       1.588000e+08   2.984000e+08\n",
       "LGF        4.730000e+08   5.974000e+08\n",
       "LGP        7.410000e+04   1.215000e+08\n",
       "MBox       9.980000e+05   5.240000e+07\n",
       "Magn.      1.760000e+05   4.900000e+06\n",
       "ORF        7.930000e+07   7.128000e+07\n",
       "Orch.      7.040000e+05   4.220000e+05\n",
       "PBS        5.170000e+05   6.720000e+04\n",
       "PFR        1.300000e+07   1.400000e+06\n",
       "Par.       7.315067e+08   1.267685e+09\n",
       "RAtt.      3.160000e+07   2.805500e+07\n",
       "RTWC       1.960000e+05   3.600000e+06\n",
       "Rela.      5.230000e+07   3.500000e+07\n",
       "SGem       1.215000e+08   1.850000e+07\n",
       "SPC        4.383900e+07   1.529070e+08\n",
       "STX        6.400000e+07   2.990000e+07\n",
       "Sony       7.300110e+08   1.483200e+09\n",
       "TFA        2.040000e+04   2.560000e+07\n",
       "TriS       3.690000e+07   6.550000e+07\n",
       "U/P        3.500000e+06   2.800000e+06\n",
       "UHE        1.700000e+06   3.200000e+06\n",
       "Uni.       2.429738e+09   2.029049e+09\n",
       "W/Dim.     7.630000e+07   1.918000e+08\n",
       "WB         8.056000e+08   1.149600e+09\n",
       "WB (NL)    3.813000e+08   4.659000e+08\n",
       "WGUSA      2.859000e+06   6.645000e+08\n",
       "Wein.      1.948204e+08   2.808000e+08"
      ]
     },
     "execution_count": 24,
     "metadata": {},
     "output_type": "execute_result"
    }
   ],
   "source": [
    "movies_2015_df.groupby(['studio'])[[\"domestic_gross\",\"foreign_gross\"]].sum()"
   ]
  },
  {
   "cell_type": "code",
   "execution_count": 25,
   "id": "7b52d5bc",
   "metadata": {},
   "outputs": [],
   "source": [
    "movie_gross_df_dropped = movie_gross_df.dropna()"
   ]
  },
  {
   "cell_type": "code",
   "execution_count": 26,
   "id": "f436501c",
   "metadata": {
    "collapsed": true
   },
   "outputs": [
    {
     "data": {
      "image/png": "[encoded data removed]",
      "text/plain": [
       "<Figure size 432x288 with 1 Axes>"
      ]
     },
     "metadata": {
      "needs_background": "light"
     },
     "output_type": "display_data"
    }
   ],
   "source": [
    "axes = movie_gross_df_dropped.groupby([\"year\"])[[\"domestic_gross\",\"foreign_gross\"]].sum().plot.line(color={\"domestic_gross\":\"green\",\"foreign_gross\":\"red\"})\n",
    "axes.grid('on')"
   ]
  },
  {
   "cell_type": "code",
   "execution_count": 27,
   "id": "01dac4fd",
   "metadata": {},
   "outputs": [],
   "source": [
    "sorted_movies_domestic_gross = movie_gross_df_dropped.sort_values(['domestic_gross'],ascending = False)"
   ]
  },
  {
   "cell_type": "code",
   "execution_count": 28,
   "id": "d3772026",
   "metadata": {},
   "outputs": [
    {
     "data": {
      "image/png": "[encoded data removed]",
      "text/plain": [
       "<Figure size 432x288 with 1 Axes>"
      ]
     },
     "metadata": {
      "needs_background": "light"
     },
     "output_type": "display_data"
    }
   ],
   "source": [
    "studios_top_20 = sorted_movies_domestic_gross.head(20).groupby(['studio'])[[\"domestic_gross\",\"foreign_gross\"]].sum().plot.bar()"
   ]
  }
 ],
 "metadata": {
  "kernelspec": {
   "display_name": "Python 3",
   "language": "python",
   "name": "python3"
  },
  "language_info": {
   "codemirror_mode": {
    "name": "ipython",
    "version": 3
   },
   "file_extension": ".py",
   "mimetype": "text/x-python",
   "name": "python",
   "nbconvert_exporter": "python",
   "pygments_lexer": "ipython3",
   "version": "3.7.11"
  }
 },
 "nbformat": 4,
 "nbformat_minor": 5
}
